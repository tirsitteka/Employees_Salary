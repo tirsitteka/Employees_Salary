{
 "cells": [
  {
   "cell_type": "code",
   "execution_count": 3,
   "metadata": {},
   "outputs": [
    {
     "name": "stdout",
     "output_type": "stream",
     "text": [
      "Please enter employee's ID:\t001\n",
      "Please enter employee's name:\tMary\n",
      "Please enter hourly rate:\t15\n",
      "Please enter hours worked:\t40\n",
      "Would you like to continue? (yes/ no) yes\n",
      "Please enter employee's ID:\t002\n",
      "Please enter employee's name:\tJohn\n",
      "Please enter hourly rate:\t22\n",
      "Please enter hours worked:\t25\n",
      "Would you like to continue? (yes/ no) yes\n",
      "Please enter employee's ID:\t003\n",
      "Please enter employee's name:\tBob\n",
      "Please enter hourly rate:\t33\n",
      "Please enter hours worked:\t4\n",
      "Would you like to continue? (yes/ no) yes\n",
      "Please enter employee's ID:\t004\n",
      "Please enter employee's name:\tMel\n",
      "Please enter hourly rate:\t43\n",
      "Please enter hours worked:\t62\n",
      "Would you like to continue? (yes/ no) yes\n",
      "Please enter employee's ID:\t005\n",
      "Please enter employee's name:\tJen\n",
      "Please enter hourly rate:\t17\n",
      "Please enter hours worked:\t33\n",
      "Would you like to continue? (yes/ no) yes\n",
      "Please enter employee's ID:\t006\n",
      "Please enter employee's name:\tSue\n",
      "Please enter hourly rate:\t29\n",
      "Please enter hours worked:\t45\n",
      "Would you like to continue? (yes/ no) yes\n",
      "Please enter employee's ID:\t007\n",
      "Please enter employee's name:\tKen\n",
      "Please enter hourly rate:\t40\n",
      "Please enter hours worked:\t36\n",
      "Would you like to continue? (yes/ no) yes\n",
      "Please enter employee's ID:\t008\n",
      "Please enter employee's name:\tDave\n",
      "Please enter hourly rate:\t20\n",
      "Please enter hours worked:\t17\n",
      "Would you like to continue? (yes/ no) yes\n",
      "Please enter employee's ID:\t009\n",
      "Please enter employee's name:\tBeth\n",
      "Please enter hourly rate:\t37\n",
      "Please enter hours worked:\t37\n",
      "Would you like to continue? (yes/ no) yes\n",
      "Please enter employee's ID:\t010\n",
      "Please enter employee's name:\tRay\n",
      "Please enter hourly rate:\t16.50\n",
      "Please enter hours worked:\t80\n",
      "Would you like to continue? (yes/ no) no\n"
     ]
    }
   ],
   "source": [
    "empid =[]\n",
    "name = []\n",
    "rate = []\n",
    "hours = []\n",
    "sal = []\n",
    "\n",
    "\n",
    "# set a flag to indicate the entry is active\n",
    "entry_active = True\n",
    "\n",
    "while entry_active:\n",
    "    \n",
    "    # prompt for the employee's id, name, pay rate and hourly pay\n",
    "    \n",
    "    ids = input(\"Please enter employee's ID:\\t\")\n",
    "    emp_name = input(\"Please enter employee's name:\\t\")\n",
    "    emp_rate = input(\"Please enter hourly rate:\\t\")\n",
    "    emp_hours = input(\"Please enter hours worked:\\t\")\n",
    " \n",
    "    emp_rate = float(emp_rate)\n",
    "    emp_hours = float(emp_hours)\n",
    "    \n",
    "    if emp_hours < 40:\n",
    "        emp_sal = (emp_hours * emp_rate)\n",
    "    elif emp_hours >= 40:\n",
    "        emp_sal = ((emp_hours * emp_rate) + ((emp_hours-40) * emp_rate * 1.5))\n",
    "    \n",
    "    #store the response in the list\n",
    "    empid.append(ids)\n",
    "    name.append(emp_name)\n",
    "    rate.append(emp_rate)\n",
    "    hours.append(emp_hours)\n",
    "    sal.append(emp_sal)\n",
    "           \n",
    "\n",
    "    #find out if there are more employees information to add\n",
    "    repeat = input(\"Would you like to continue? (yes/ no) \")\n",
    "    if repeat == 'no':\n",
    "        entry_active = False\n",
    "    \n",
    "\n"
   ]
  },
  {
   "cell_type": "code",
   "execution_count": 10,
   "metadata": {},
   "outputs": [
    {
     "name": "stdout",
     "output_type": "stream",
     "text": [
      "Emp ID: ['001', '002', '003', '004', '005', '006', '007', '008', '009', '010']\n",
      "Emp Name: ['Mary', 'John', 'Bob', 'Mel', 'Jen', 'Sue', 'Ken', 'Dave', 'Beth', 'Ray']\n",
      "Pay Rate: [15.0, 22.0, 33.0, 43.0, 17.0, 29.0, 40.0, 20.0, 37.0, 16.5]\n",
      "Hours Worked: [40.0, 25.0, 4.0, 62.0, 33.0, 45.0, 36.0, 17.0, 37.0, 80.0]\n",
      "Salary: [600.0, 550.0, 132.0, 4085.0, 561.0, 1522.5, 1440.0, 340.0, 1369.0, 2310.0]\n"
     ]
    }
   ],
   "source": [
    "print(\"Emp ID: \" + str(empid))\n",
    "print(\"Emp Name: \" + str(name))\n",
    "print(\"Pay Rate: \" + str(rate))\n",
    "print(\"Hours Worked: \" + str(hours))\n",
    "print(\"Salary: \" + str(sal))\n"
   ]
  }
 ],
 "metadata": {
  "kernelspec": {
   "display_name": "Python 3",
   "language": "python",
   "name": "python3"
  },
  "language_info": {
   "codemirror_mode": {
    "name": "ipython",
    "version": 3
   },
   "file_extension": ".py",
   "mimetype": "text/x-python",
   "name": "python",
   "nbconvert_exporter": "python",
   "pygments_lexer": "ipython3",
   "version": "3.7.3"
  }
 },
 "nbformat": 4,
 "nbformat_minor": 2
}
